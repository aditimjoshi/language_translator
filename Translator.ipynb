{
 "cells": [
  {
   "cell_type": "code",
   "execution_count": 1,
   "id": "1fb5059a",
   "metadata": {},
   "outputs": [],
   "source": [
    "import io\n",
    "import math\n",
    "import time\n",
    "from collections import Counter\n",
    "\n",
    "import torch\n",
    "import torch.nn as nn\n",
    "from torch import Tensor\n",
    "from torchtext.utils import download_from_url, extract_archive\n",
    "from torchtext.data.utils import get_tokenizer\n",
    "from torchtext.vocab import vocab\n",
    "from torch.utils.data import DataLoader\n",
    "from torch.nn.utils.rnn import pad_sequence\n",
    "from torch.nn import (TransformerEncoder, TransformerDecoder,TransformerEncoderLayer, TransformerDecoderLayer)"
   ]
  },
  {
   "cell_type": "code",
   "execution_count": 2,
   "id": "2f61693f",
   "metadata": {},
   "outputs": [],
   "source": [
    "url_base = 'https://raw.githubusercontent.com/multi30k/dataset/master/data/task1/raw/'\n",
    "train_urls = ('train.de.gz', 'train.en.gz')\n",
    "val_urls = ('val.de.gz', 'val.en.gz')\n",
    "test_urls = ('test_2016_flickr.de.gz', 'test_2016_flickr.en.gz')\n",
    "\n",
    "train_filepaths = [extract_archive(download_from_url(url_base + url))[0] for url in train_urls]\n",
    "val_filepaths = [extract_archive(download_from_url(url_base + url))[0] for url in val_urls]\n",
    "test_filepaths = [extract_archive(download_from_url(url_base + url))[0] for url in test_urls]"
   ]
  },
  {
   "cell_type": "code",
   "execution_count": 3,
   "id": "a9734648",
   "metadata": {},
   "outputs": [],
   "source": [
    "de_tokenizer = get_tokenizer('spacy', language='de_core_news_sm')\n",
    "en_tokenizer = get_tokenizer('spacy', language='en_core_web_sm')"
   ]
  },
  {
   "cell_type": "code",
   "execution_count": 4,
   "id": "b916da82",
   "metadata": {},
   "outputs": [],
   "source": [
    "def build_vocab(filepath, tokenizer):\n",
    "    \n",
    "    counter = Counter()\n",
    "    \n",
    "    with io.open(filepath, encoding=\"utf8\") as f:\n",
    "        for string_ in f:\n",
    "            counter.update(tokenizer(string_))\n",
    "            \n",
    "    v = vocab(counter, specials=['<unk>', '<pad>', '<bos>', '<eos>'])\n",
    "    v.set_default_index(0)\n",
    "    \n",
    "    return v"
   ]
  },
  {
   "cell_type": "code",
   "execution_count": 5,
   "id": "1dbc8782",
   "metadata": {},
   "outputs": [],
   "source": [
    "de_vocab = build_vocab(train_filepaths[0], de_tokenizer)\n",
    "en_vocab = build_vocab(train_filepaths[1], en_tokenizer)"
   ]
  },
  {
   "cell_type": "code",
   "execution_count": 6,
   "id": "c6092a0e",
   "metadata": {},
   "outputs": [],
   "source": [
    "def data_process(filepaths):\n",
    "    \n",
    "    raw_de_iter = iter(io.open(filepaths[0], encoding=\"utf8\"))\n",
    "    raw_en_iter = iter(io.open(filepaths[1], encoding=\"utf8\"))\n",
    "    \n",
    "    data = []\n",
    "    \n",
    "    for (raw_de, raw_en) in zip(raw_de_iter, raw_en_iter):\n",
    "        \n",
    "        de_tensor_ = torch.tensor([de_vocab[token] for token in de_tokenizer(raw_de.rstrip(\"n\"))], dtype=torch.long)\n",
    "        en_tensor_ = torch.tensor([en_vocab[token] for token in en_tokenizer(raw_en.rstrip(\"n\"))], dtype=torch.long)\n",
    "        \n",
    "        data.append((de_tensor_, en_tensor_))\n",
    "        \n",
    "    return data"
   ]
  },
  {
   "cell_type": "code",
   "execution_count": 7,
   "id": "4b5fa24f",
   "metadata": {},
   "outputs": [],
   "source": [
    "train_data = data_process(train_filepaths)\n",
    "val_data = data_process(val_filepaths)\n",
    "test_data = data_process(test_filepaths)"
   ]
  },
  {
   "cell_type": "code",
   "execution_count": 8,
   "id": "0737ad07",
   "metadata": {},
   "outputs": [],
   "source": [
    "device = torch.device('cuda' if torch.cuda.is_available() else 'cpu')"
   ]
  },
  {
   "cell_type": "code",
   "execution_count": 9,
   "id": "2b39fa24",
   "metadata": {},
   "outputs": [],
   "source": [
    "BATCH_SIZE = 128\n",
    "PAD_IDX = de_vocab['<pad>']\n",
    "BOS_IDX = de_vocab['<bos>']\n",
    "EOS_IDX = de_vocab['<eos>']"
   ]
  },
  {
   "cell_type": "code",
   "execution_count": 10,
   "id": "b77cef40",
   "metadata": {},
   "outputs": [],
   "source": [
    "def generate_batch(data_batch):\n",
    "    \n",
    "    de_batch, en_batch = [], []\n",
    "    \n",
    "    for (de_item, en_item) in data_batch:\n",
    "        de_batch.append(torch.cat([torch.tensor([BOS_IDX]), de_item, torch.tensor([EOS_IDX])], dim=0))\n",
    "        en_batch.append(torch.cat([torch.tensor([BOS_IDX]), en_item, torch.tensor([EOS_IDX])], dim=0))\n",
    "    \n",
    "    de_batch = pad_sequence(de_batch, padding_value=PAD_IDX)\n",
    "    en_batch = pad_sequence(en_batch, padding_value=PAD_IDX)\n",
    "    \n",
    "    return de_batch, en_batch"
   ]
  },
  {
   "cell_type": "code",
   "execution_count": 11,
   "id": "aae61790",
   "metadata": {},
   "outputs": [],
   "source": [
    "train_iter = DataLoader(train_data, batch_size=BATCH_SIZE, shuffle=True, collate_fn=generate_batch)\n",
    "valid_iter = DataLoader(val_data, batch_size=BATCH_SIZE, shuffle=True, collate_fn=generate_batch)\n",
    "test_iter = DataLoader(test_data, batch_size=BATCH_SIZE, shuffle=True, collate_fn=generate_batch)"
   ]
  },
  {
   "cell_type": "code",
   "execution_count": 12,
   "id": "f279bd7c",
   "metadata": {},
   "outputs": [],
   "source": [
    "class Seq2SeqTransformer(nn.Module):\n",
    "    \n",
    "    def __init__(self, num_encoder_layers: int, num_decoder_layers: int, emb_size: int, src_vocab_size: int, tgt_vocab_size: int, dim_feedforward:int = 512, dropout:float = 0.1):\n",
    "        \n",
    "        super(Seq2SeqTransformer, self).__init__()\n",
    "        \n",
    "        encoder_layer = TransformerEncoderLayer(d_model=emb_size, nhead=NHEAD, dim_feedforward=dim_feedforward)\n",
    "        self.transformer_encoder = TransformerEncoder(encoder_layer, num_layers=num_encoder_layers)\n",
    "        \n",
    "        decoder_layer = TransformerDecoderLayer(d_model=emb_size, nhead=NHEAD, dim_feedforward=dim_feedforward)\n",
    "        self.transformer_decoder = TransformerDecoder(decoder_layer, num_layers=num_decoder_layers)\n",
    "        \n",
    "        self.generator = nn.Linear(emb_size, tgt_vocab_size)\n",
    "        \n",
    "        self.src_tok_emb = TokenEmbedding(src_vocab_size, emb_size)\n",
    "        self.tgt_tok_emb = TokenEmbedding(tgt_vocab_size, emb_size)\n",
    "        \n",
    "        self.positional_encoding = PositionalEncoding(emb_size, dropout=dropout)\n",
    "        \n",
    "    \n",
    "    def forward(self, src: Tensor, trg: Tensor, src_mask: Tensor, tgt_mask: Tensor, src_padding_mask: Tensor, tgt_padding_mask: Tensor, memory_key_padding_mask: Tensor):\n",
    "        \n",
    "        src_emb = self.positional_encoding(self.src_tok_emb(src))\n",
    "        tgt_emb = self.positional_encoding(self.tgt_tok_emb(trg))\n",
    "        \n",
    "        memory = self.transformer_encoder(src_emb, src_mask, src_padding_mask)\n",
    "        outs = self.transformer_decoder(tgt_emb, memory, tgt_mask, None, tgt_padding_mask, memory_key_padding_mask)\n",
    "        \n",
    "        return self.generator(outs)\n",
    "    \n",
    "    \n",
    "    def encode(self, src: Tensor, src_mask: Tensor):\n",
    "        return self.transformer_encoder(self.positional_encoding(self.src_tok_emb(src)), src_mask)\n",
    "\n",
    "    \n",
    "    def decode(self, tgt: Tensor, memory: Tensor, tgt_mask: Tensor):\n",
    "        return self.transformer_decoder(self.positional_encoding(self.tgt_tok_emb(tgt)), memory, tgt_mask)"
   ]
  },
  {
   "cell_type": "code",
   "execution_count": 13,
   "id": "b59401d7",
   "metadata": {},
   "outputs": [],
   "source": [
    "class PositionalEncoding(nn.Module):\n",
    "    \n",
    "    def __init__(self, emb_size: int, dropout, maxlen: int = 5000):\n",
    "        \n",
    "        super(PositionalEncoding, self).__init__()\n",
    "        \n",
    "        den = torch.exp(- torch.arange(0, emb_size, 2) * math.log(10000) / emb_size)\n",
    "        pos = torch.arange(0, maxlen).reshape(maxlen, 1)\n",
    "        \n",
    "        pos_embedding = torch.zeros((maxlen, emb_size))\n",
    "        \n",
    "        pos_embedding[:, 0::2] = torch.sin(pos * den)\n",
    "        pos_embedding[:, 1::2] = torch.cos(pos * den)\n",
    "        \n",
    "        pos_embedding = pos_embedding.unsqueeze(-2)\n",
    "\n",
    "        self.dropout = nn.Dropout(dropout)\n",
    "        \n",
    "        self.register_buffer('pos_embedding', pos_embedding)\n",
    "    \n",
    "    \n",
    "    def forward(self, token_embedding: Tensor):\n",
    "        return self.dropout(token_embedding + self.pos_embedding[:token_embedding.size(0),:])"
   ]
  },
  {
   "cell_type": "code",
   "execution_count": 14,
   "id": "3a5a1102",
   "metadata": {},
   "outputs": [],
   "source": [
    "class TokenEmbedding(nn.Module):\n",
    "    \n",
    "    def __init__(self, vocab_size: int, emb_size):\n",
    "        \n",
    "        super(TokenEmbedding, self).__init__()\n",
    "        \n",
    "        self.embedding = nn.Embedding(vocab_size, emb_size)\n",
    "        self.emb_size = emb_size\n",
    "        \n",
    "        \n",
    "    def forward(self, tokens: Tensor):\n",
    "        return self.embedding(tokens.long()) * math.sqrt(self.emb_size)"
   ]
  },
  {
   "cell_type": "code",
   "execution_count": 15,
   "id": "936ec21e",
   "metadata": {},
   "outputs": [],
   "source": [
    "def generate_square_subsequent_mask(sz):\n",
    "        \n",
    "    mask = (torch.triu(torch.ones((sz, sz), device=DEVICE)) == 1).transpose(0, 1)\n",
    "    mask = mask.float().masked_fill(mask == 0, float('-inf')).masked_fill(mask == 1, float(0.0))\n",
    "        \n",
    "    return mask\n",
    "    \n",
    "    \n",
    "def create_mask(src, tgt):\n",
    "        \n",
    "    src_seq_len = src.shape[0]\n",
    "    tgt_seq_len = tgt.shape[0]\n",
    "\n",
    "    tgt_mask = generate_square_subsequent_mask(tgt_seq_len)\n",
    "    src_mask = torch.zeros((src_seq_len, src_seq_len), device=DEVICE).type(torch.bool)\n",
    "\n",
    "    src_padding_mask = (src == PAD_IDX).transpose(0, 1)\n",
    "    tgt_padding_mask = (tgt == PAD_IDX).transpose(0, 1)\n",
    "        \n",
    "    return src_mask, tgt_mask, src_padding_mask, tgt_padding_mask"
   ]
  },
  {
   "cell_type": "code",
   "execution_count": 16,
   "id": "e4aa2642",
   "metadata": {},
   "outputs": [],
   "source": [
    "SRC_VOCAB_SIZE = len(de_vocab)\n",
    "TGT_VOCAB_SIZE = len(en_vocab)\n",
    "EMB_SIZE = 512\n",
    "NHEAD = 8\n",
    "FFN_HID_DIM = 512\n",
    "BATCH_SIZE = 128\n",
    "NUM_ENCODER_LAYERS = 3\n",
    "NUM_DECODER_LAYERS = 3\n",
    "NUM_EPOCHS = 50"
   ]
  },
  {
   "cell_type": "code",
   "execution_count": 17,
   "id": "d01abbe5",
   "metadata": {},
   "outputs": [],
   "source": [
    "DEVICE = torch.device('cuda:0' if torch.cuda.is_available() else 'cpu')"
   ]
  },
  {
   "cell_type": "code",
   "execution_count": 18,
   "id": "a5a32c7b",
   "metadata": {},
   "outputs": [
    {
     "name": "stderr",
     "output_type": "stream",
     "text": [
      "/home/aditi/.local/lib/python3.8/site-packages/torch/nn/modules/transformer.py:282: UserWarning: enable_nested_tensor is True, but self.use_nested_tensor is False because encoder_layer.self_attn.batch_first was not True(use batch_first for better inference performance)\n",
      "  warnings.warn(f\"enable_nested_tensor is True, but self.use_nested_tensor is False because {why_not_sparsity_fast_path}\")\n"
     ]
    }
   ],
   "source": [
    "transformer = Seq2SeqTransformer(NUM_ENCODER_LAYERS, NUM_DECODER_LAYERS, EMB_SIZE, SRC_VOCAB_SIZE, TGT_VOCAB_SIZE, FFN_HID_DIM)\n",
    "\n",
    "for p in transformer.parameters():\n",
    "    if p.dim() > 1:\n",
    "        nn.init.xavier_uniform_(p)\n",
    "        \n",
    "transformer = transformer.to(device)\n",
    "\n",
    "loss_fn = torch.nn.CrossEntropyLoss(ignore_index=PAD_IDX)\n",
    "\n",
    "optimizer = torch.optim.Adam(transformer.parameters(), lr=0.0001, betas=(0.9, 0.98), eps=1e-9)"
   ]
  },
  {
   "cell_type": "code",
   "execution_count": 19,
   "id": "09f9b850",
   "metadata": {},
   "outputs": [],
   "source": [
    "def train_epoch(model, train_iter, optimizer):\n",
    "    \n",
    "    model.train()\n",
    "    \n",
    "    losses = 0\n",
    "    \n",
    "    for idx, (src, tgt) in enumerate(train_iter):\n",
    "        \n",
    "        src = src.to(device)\n",
    "        tgt = tgt.to(device)\n",
    "\n",
    "        tgt_input = tgt[:-1, :]\n",
    "\n",
    "        src_mask, tgt_mask, src_padding_mask, tgt_padding_mask = create_mask(src, tgt_input)\n",
    "\n",
    "        logits = model(src, tgt_input, src_mask, tgt_mask, src_padding_mask, tgt_padding_mask, src_padding_mask)\n",
    "\n",
    "        optimizer.zero_grad()\n",
    "\n",
    "        tgt_out = tgt[1:, :]\n",
    "        \n",
    "        loss = loss_fn(logits.reshape(-1, logits.shape[-1]), tgt_out.reshape(-1))\n",
    "        loss.backward()\n",
    "\n",
    "        \n",
    "        optimizer.step()\n",
    "        \n",
    "        losses += loss.item()\n",
    "    \n",
    "    # torch.save(model, '/home/aditi/NLP/Language_Translator_model/')\n",
    "\n",
    "    return losses / len(train_iter)"
   ]
  },
  {
   "cell_type": "code",
   "execution_count": 20,
   "id": "28dd85f9",
   "metadata": {},
   "outputs": [],
   "source": [
    "def evaluate(model, val_iter):\n",
    "    \n",
    "    model.eval()\n",
    "    \n",
    "    losses = 0\n",
    "    \n",
    "    for idx, (src, tgt) in (enumerate(valid_iter)):\n",
    "        \n",
    "        src = src.to(device)\n",
    "        tgt = tgt.to(device)\n",
    "\n",
    "        tgt_input = tgt[:-1, :]\n",
    "\n",
    "        src_mask, tgt_mask, src_padding_mask, tgt_padding_mask = create_mask(src, tgt_input)\n",
    "\n",
    "        logits = model(src, tgt_input, src_mask, tgt_mask, src_padding_mask, tgt_padding_mask, src_padding_mask)\n",
    "        \n",
    "        tgt_out = tgt[1:, :]\n",
    "        \n",
    "        loss = loss_fn(logits.reshape(-1, logits.shape[-1]), tgt_out.reshape(-1))\n",
    "        losses += loss.item()\n",
    "    \n",
    "    return losses / len(val_iter)"
   ]
  },
  {
   "cell_type": "code",
   "execution_count": 21,
   "id": "b4db762c",
   "metadata": {},
   "outputs": [
    {
     "name": "stderr",
     "output_type": "stream",
     "text": [
      "/home/aditi/.local/lib/python3.8/site-packages/torch/nn/functional.py:5076: UserWarning: Support for mismatched key_padding_mask and attn_mask is deprecated. Use same type for both instead.\n",
      "  warnings.warn(\n"
     ]
    },
    {
     "name": "stdout",
     "output_type": "stream",
     "text": [
      "Epoch: 1, Train loss: 5.089, Val loss: 3.813, Epoch time = 54.916s\n",
      "Epoch: 2, Train loss: 3.487, Val loss: 3.070, Epoch time = 55.601s\n",
      "Epoch: 3, Train loss: 2.923, Val loss: 2.670, Epoch time = 55.626s\n",
      "Epoch: 4, Train loss: 2.558, Val loss: 2.429, Epoch time = 55.467s\n",
      "Epoch: 5, Train loss: 2.286, Val loss: 2.257, Epoch time = 55.585s\n",
      "Epoch: 6, Train loss: 2.070, Val loss: 2.123, Epoch time = 55.575s\n",
      "Epoch: 7, Train loss: 1.889, Val loss: 2.050, Epoch time = 55.598s\n",
      "Epoch: 8, Train loss: 1.739, Val loss: 1.960, Epoch time = 55.628s\n",
      "Epoch: 9, Train loss: 1.606, Val loss: 1.914, Epoch time = 55.836s\n",
      "Epoch: 10, Train loss: 1.490, Val loss: 1.861, Epoch time = 55.860s\n",
      "Epoch: 11, Train loss: 1.388, Val loss: 1.814, Epoch time = 55.870s\n",
      "Epoch: 12, Train loss: 1.297, Val loss: 1.792, Epoch time = 55.934s\n",
      "Epoch: 13, Train loss: 1.211, Val loss: 1.763, Epoch time = 55.747s\n",
      "Epoch: 14, Train loss: 1.135, Val loss: 1.755, Epoch time = 55.813s\n",
      "Epoch: 15, Train loss: 1.063, Val loss: 1.746, Epoch time = 55.522s\n",
      "Epoch: 16, Train loss: 0.998, Val loss: 1.738, Epoch time = 55.961s\n",
      "Epoch: 17, Train loss: 0.936, Val loss: 1.748, Epoch time = 55.685s\n",
      "Epoch: 18, Train loss: 0.880, Val loss: 1.744, Epoch time = 55.682s\n",
      "Epoch: 19, Train loss: 0.827, Val loss: 1.756, Epoch time = 55.933s\n",
      "Epoch: 20, Train loss: 0.775, Val loss: 1.775, Epoch time = 55.956s\n",
      "Epoch: 21, Train loss: 0.728, Val loss: 1.766, Epoch time = 55.663s\n",
      "Epoch: 22, Train loss: 0.683, Val loss: 1.791, Epoch time = 55.850s\n",
      "Epoch: 23, Train loss: 0.642, Val loss: 1.804, Epoch time = 55.791s\n",
      "Epoch: 24, Train loss: 0.602, Val loss: 1.829, Epoch time = 55.869s\n",
      "Epoch: 25, Train loss: 0.564, Val loss: 1.839, Epoch time = 56.000s\n",
      "Epoch: 26, Train loss: 0.527, Val loss: 1.868, Epoch time = 55.937s\n",
      "Epoch: 27, Train loss: 0.493, Val loss: 1.876, Epoch time = 55.707s\n",
      "Epoch: 28, Train loss: 0.463, Val loss: 1.892, Epoch time = 55.935s\n",
      "Epoch: 29, Train loss: 0.431, Val loss: 1.932, Epoch time = 55.545s\n",
      "Epoch: 30, Train loss: 0.405, Val loss: 1.943, Epoch time = 55.495s\n",
      "Epoch: 31, Train loss: 0.376, Val loss: 1.981, Epoch time = 55.715s\n",
      "Epoch: 32, Train loss: 0.350, Val loss: 1.996, Epoch time = 55.853s\n",
      "Epoch: 33, Train loss: 0.327, Val loss: 2.004, Epoch time = 55.809s\n",
      "Epoch: 34, Train loss: 0.304, Val loss: 2.042, Epoch time = 55.585s\n",
      "Epoch: 35, Train loss: 0.284, Val loss: 2.078, Epoch time = 63.470s\n",
      "Epoch: 36, Train loss: 0.264, Val loss: 2.078, Epoch time = 37.609s\n",
      "Epoch: 37, Train loss: 0.245, Val loss: 2.106, Epoch time = 37.820s\n",
      "Epoch: 38, Train loss: 0.228, Val loss: 2.117, Epoch time = 37.653s\n",
      "Epoch: 39, Train loss: 0.213, Val loss: 2.161, Epoch time = 37.548s\n",
      "Epoch: 40, Train loss: 0.198, Val loss: 2.164, Epoch time = 37.666s\n",
      "Epoch: 41, Train loss: 0.185, Val loss: 2.203, Epoch time = 37.838s\n",
      "Epoch: 42, Train loss: 0.172, Val loss: 2.229, Epoch time = 37.730s\n",
      "Epoch: 43, Train loss: 0.161, Val loss: 2.231, Epoch time = 37.945s\n",
      "Epoch: 44, Train loss: 0.152, Val loss: 2.282, Epoch time = 37.622s\n",
      "Epoch: 45, Train loss: 0.142, Val loss: 2.289, Epoch time = 37.899s\n",
      "Epoch: 46, Train loss: 0.134, Val loss: 2.308, Epoch time = 38.008s\n",
      "Epoch: 47, Train loss: 0.125, Val loss: 2.365, Epoch time = 37.901s\n",
      "Epoch: 48, Train loss: 0.119, Val loss: 2.350, Epoch time = 37.943s\n",
      "Epoch: 49, Train loss: 0.111, Val loss: 2.360, Epoch time = 38.044s\n",
      "Epoch: 50, Train loss: 0.106, Val loss: 2.377, Epoch time = 37.792s\n"
     ]
    }
   ],
   "source": [
    "for epoch in range(1, NUM_EPOCHS+1):\n",
    "    \n",
    "    start_time = time.time()\n",
    "    train_loss = train_epoch(transformer, train_iter, optimizer)\n",
    "    end_time = time.time()\n",
    "    \n",
    "    val_loss = evaluate(transformer, valid_iter)\n",
    "    \n",
    "    print((f\"Epoch: {epoch}, Train loss: {train_loss:.3f}, Val loss: {val_loss:.3f}, \" f\"Epoch time = {(end_time - start_time):.3f}s\"))"
   ]
  },
  {
   "cell_type": "code",
   "execution_count": 22,
   "id": "be19b470",
   "metadata": {},
   "outputs": [],
   "source": [
    "def greedy_decode(model, src, src_mask, max_len, start_symbol):\n",
    "    \n",
    "    src = src.to(device)\n",
    "    src_mask = src_mask.to(device)\n",
    "\n",
    "    memory = model.encode(src, src_mask)\n",
    "    ys = torch.ones(1, 1).fill_(start_symbol).type(torch.long).to(device)\n",
    "    \n",
    "    for i in range(max_len-1):\n",
    "        \n",
    "        memory = memory.to(device)\n",
    "        memory_mask = torch.zeros(ys.shape[0], memory.shape[0]).to(device).type(torch.bool)\n",
    "        tgt_mask = (generate_square_subsequent_mask(ys.size(0)).type(torch.bool)).to(device)\n",
    "        \n",
    "        out = model.decode(ys, memory, tgt_mask)\n",
    "        out = out.transpose(0, 1)\n",
    "        \n",
    "        prob = model.generator(out[:, -1])\n",
    "        \n",
    "        _, next_word = torch.max(prob, dim = 1)\n",
    "        next_word = next_word.item()\n",
    "\n",
    "        ys = torch.cat([ys, torch.ones(1, 1).type_as(src.data).fill_(next_word)], dim=0)\n",
    "        \n",
    "        if next_word == EOS_IDX:\n",
    "            break\n",
    "    \n",
    "    return ys"
   ]
  },
  {
   "cell_type": "code",
   "execution_count": 27,
   "id": "6e9b4584",
   "metadata": {},
   "outputs": [],
   "source": [
    "def translate(model, src, src_vocab, tgt_vocab, src_tokenizer):\n",
    "    \n",
    "    model.eval()\n",
    "    \n",
    "    tokens = [BOS_IDX] + [src_vocab.get_stoi()[tok] for tok in src_tokenizer(src)] + [EOS_IDX]\n",
    "    num_tokens = len(tokens)\n",
    "    \n",
    "    src = (torch.LongTensor(tokens).reshape(num_tokens, 1))\n",
    "    src_mask = (torch.zeros(num_tokens, num_tokens)).type(torch.bool)\n",
    "    tgt_tokens = greedy_decode(model, src, src_mask, max_len=num_tokens + 5, start_symbol=BOS_IDX).flatten()\n",
    "    \n",
    "    return \" \".join([tgt_vocab.get_itos()[tok] for tok in tgt_tokens]).replace(\"<bos>\", \"\").replace(\"<eos>\", \"\")"
   ]
  },
  {
   "cell_type": "code",
   "execution_count": 66,
   "id": "d10e1a33",
   "metadata": {},
   "outputs": [
    {
     "name": "stdout",
     "output_type": "stream",
     "text": [
      " I am , not to see her I am .\n"
     ]
    }
   ],
   "source": [
    "output = translate(transformer, \"\", de_vocab, en_vocab, de_tokenizer)\n",
    "print(output)"
   ]
  },
  {
   "cell_type": "code",
   "execution_count": null,
   "id": "6c33d8d0",
   "metadata": {},
   "outputs": [],
   "source": []
  }
 ],
 "metadata": {
  "kernelspec": {
   "display_name": "Python 3 (ipykernel)",
   "language": "python",
   "name": "python3"
  },
  "language_info": {
   "codemirror_mode": {
    "name": "ipython",
    "version": 3
   },
   "file_extension": ".py",
   "mimetype": "text/x-python",
   "name": "python",
   "nbconvert_exporter": "python",
   "pygments_lexer": "ipython3",
   "version": "3.8.10"
  }
 },
 "nbformat": 4,
 "nbformat_minor": 5
}
